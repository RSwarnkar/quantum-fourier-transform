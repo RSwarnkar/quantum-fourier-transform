{
 "cells": [
  {
   "cell_type": "code",
   "execution_count": 5,
   "id": "b447863b",
   "metadata": {},
   "outputs": [
    {
     "data": {
      "text/markdown": [
       "$QFT=\\frac{1}{\\sqrt128} \\begin{bmatrix}1 & 2 \\\\ 3 & 4 \\\\ \\end{bmatrix}$"
      ],
      "text/plain": [
       "<IPython.core.display.Markdown object>"
      ]
     },
     "metadata": {},
     "output_type": "display_data"
    }
   ],
   "source": [
    "from IPython.display import display, Markdown\n",
    "N = 128\n",
    "text = r'$QFT=\\frac{{1}}{{\\sqrt{N}}} \\begin{{bmatrix}}'.format(N=N)\n",
    "text = text + r'1 & 2 \\\\ 3 & 4 \\\\'\n",
    "text = text + r' \\end{bmatrix}$'\n",
    "display(Markdown(text))"
   ]
  },
  {
   "cell_type": "code",
   "execution_count": 6,
   "id": "2c663d17",
   "metadata": {},
   "outputs": [
    {
     "data": {
      "text/markdown": [
       "$QFT=\\frac{1}{\\sqrt{128}} \begin{bmatrix}1 & 2 \\\\ 3 & 4 \\\\ \\end{bmatrix}$"
      ],
      "text/plain": [
       "<IPython.core.display.Markdown object>"
      ]
     },
     "metadata": {},
     "output_type": "display_data"
    }
   ],
   "source": [
    "from IPython.display import display, Markdown\n",
    "N = 128\n",
    "text = r'$QFT=\\frac{1}{\\sqrt{'+str(N)+'}} \\begin{bmatrix}'\n",
    "\n",
    "text = text + r'1 & 2 \\\\ 3 & 4 \\\\'\n",
    "text = text + r' \\end{bmatrix}$'\n",
    "display(Markdown(text))"
   ]
  },
  {
   "cell_type": "code",
   "execution_count": null,
   "id": "0ad4f044",
   "metadata": {},
   "outputs": [],
   "source": []
  },
  {
   "cell_type": "code",
   "execution_count": 7,
   "id": "2af3bf96",
   "metadata": {},
   "outputs": [
    {
     "data": {
      "text/markdown": [
       "$QFT = \\frac{1}{\\sqrt{128}} \\begin{bmatrix}1 & 2 \\\\ 3 & 4 \\\\ \\end{bmatrix}$"
      ],
      "text/plain": [
       "<IPython.core.display.Markdown object>"
      ]
     },
     "metadata": {},
     "output_type": "display_data"
    }
   ],
   "source": [
    "from IPython.display import display, Markdown\n",
    "N = 128\n",
    "text = r\"$QFT = \\frac{{1}}{{\\sqrt{{{N}}}}} \\begin{{bmatrix}}\".format(N=N)\n",
    "\n",
    "text = text + r'1 & 2 \\\\ 3 & 4 \\\\'\n",
    "text = text + r' \\end{bmatrix}$'\n",
    "display(Markdown(text))"
   ]
  },
  {
   "cell_type": "code",
   "execution_count": 9,
   "id": "d91dcbdd",
   "metadata": {},
   "outputs": [
    {
     "data": {
      "text/markdown": [
       "$QFT = \\frac{1}{\\sqrt{128}} \\begin{bmatrix}1 & 2 \\\\ 3 & 4 \\\\ \\end{bmatrix}$"
      ],
      "text/plain": [
       "<IPython.core.display.Markdown object>"
      ]
     },
     "metadata": {},
     "output_type": "display_data"
    }
   ],
   "source": [
    "from IPython.display import display, Markdown\n",
    "N = 128\n",
    "text = r\"$QFT = \\frac{{1}}{{\\sqrt{{{0}}}}} \\begin{{bmatrix}}\".format(N)\n",
    "\n",
    "text = text + r'1 & 2 \\\\ 3 & 4 \\\\'\n",
    "text = text + r' \\end{bmatrix}$'\n",
    "display(Markdown(text))"
   ]
  },
  {
   "cell_type": "code",
   "execution_count": null,
   "id": "5e8b3ce0",
   "metadata": {},
   "outputs": [],
   "source": [
    "from qiskit.visualization import array_to_latex\n",
    "# Max rows and cols = 24\n",
    "array_to_latex(array=my_np_array, prefix='Output = ', max_size=24)\n",
    "# print latex source only: Source=True\n",
    "array_to_latex(my_np_array, prefix='Output = ', source=True, max_size=24)"
   ]
  },
  {
   "cell_type": "code",
   "execution_count": 14,
   "id": "ac4c969d",
   "metadata": {},
   "outputs": [
    {
     "data": {
      "text/markdown": [
       "\n",
       "\n",
       "\\begin{bmatrix}\n",
       "0 & 1  \\\\\n",
       " 1 & 0  \\\\\n",
       " \\end{bmatrix}\n",
       "\n",
       "\n",
       "\\begin{bmatrix}\n",
       "\\tfrac{1}{\\sqrt{2}}  \\\\\n",
       " -\\tfrac{1}{\\sqrt{2}}  \\\\\n",
       " \\end{bmatrix}\n",
       "\n",
       "\n",
       "\\begin{bmatrix}\n",
       "-\\tfrac{1}{\\sqrt{2}}  \\\\\n",
       " \\tfrac{1}{\\sqrt{2}}  \\\\\n",
       " \\end{bmatrix}\n"
      ],
      "text/plain": [
       "<IPython.core.display.Markdown object>"
      ]
     },
     "metadata": {},
     "output_type": "display_data"
    },
    {
     "name": "stdout",
     "output_type": "stream",
     "text": [
      "\n",
      "\n",
      "\\begin{bmatrix}\n",
      "0 & 1  \\\\\n",
      " 1 & 0  \\\\\n",
      " \\end{bmatrix}\n",
      "\n",
      "\n",
      "\\begin{bmatrix}\n",
      "\\tfrac{1}{\\sqrt{2}}  \\\\\n",
      " -\\tfrac{1}{\\sqrt{2}}  \\\\\n",
      " \\end{bmatrix}\n",
      "\n",
      "\n",
      "\\begin{bmatrix}\n",
      "-\\tfrac{1}{\\sqrt{2}}  \\\\\n",
      " \\tfrac{1}{\\sqrt{2}}  \\\\\n",
      " \\end{bmatrix}\n",
      "\n"
     ]
    }
   ],
   "source": [
    "from qiskit.visualization import array_to_latex\n",
    "from IPython.display import display, Markdown\n",
    "import numpy as np\n",
    "import math \n",
    "\n",
    "# Max rows and cols = 24\n",
    "#display(array_to_latex(array=qft_of_sv, prefix='QFT (\\\\Psi) = ', max_size=24)\n",
    "\n",
    "xop = np.array([[0,1],[1,0]])\n",
    "sv  = np.array([[math.sqrt(1/2)],[-math.sqrt(1/2)]])\n",
    "result = np.matmul(xop,sv)\n",
    "\n",
    "ltx_xop    = array_to_latex(xop, source=True)\n",
    "ltx_sv     = array_to_latex(sv, source=True)\n",
    "ltx_result = array_to_latex(result, source=True)\n",
    "\n",
    "final_tex = ltx_xop + ltx_sv + ltx_result\n",
    "\n",
    "display(Markdown(final_tex))\n",
    "\n",
    "\n"
   ]
  },
  {
   "cell_type": "code",
   "execution_count": 30,
   "id": "212f7c69",
   "metadata": {},
   "outputs": [
    {
     "data": {
      "text/markdown": [
       "\n",
       "\n",
       "\\begin{bmatrix}\n",
       "0 & 1  \\\\\n",
       " 1 & 0  \\\\\n",
       " \\end{bmatrix}\n",
       "\n",
       "\n",
       "\\begin{bmatrix}\n",
       "\\tfrac{1}{\\sqrt{2}}  \\\\\n",
       " -\\tfrac{1}{\\sqrt{2}}  \\\\\n",
       " \\end{bmatrix}\n",
       "\n",
       "\n",
       "\\begin{bmatrix}\n",
       "-\\tfrac{1}{\\sqrt{2}}  \\\\\n",
       " \\tfrac{1}{\\sqrt{2}}  \\\\\n",
       " \\end{bmatrix}\n"
      ],
      "text/plain": [
       "<IPython.core.display.Markdown object>"
      ]
     },
     "metadata": {},
     "output_type": "display_data"
    },
    {
     "data": {
      "text/markdown": [
       "\n",
       "\n",
       "\\begin{bmatrix}\n",
       "0 & 1  \\\n",
       " 1 & 0  \\\n",
       " \\end{bmatrix}\n",
       "\n",
       "\n",
       "\\begin{bmatrix}\n",
       "\\tfrac{1}{\\sqrt{2}}  \\\n",
       " -\\tfrac{1}{\\sqrt{2}}  \\\n",
       " \\end{bmatrix}\n",
       "\n",
       "\n",
       "\\begin{bmatrix}\n",
       "-\\tfrac{1}{\\sqrt{2}}  \\\n",
       " \\tfrac{1}{\\sqrt{2}}  \\\n",
       " \\end{bmatrix}\n"
      ],
      "text/plain": [
       "<IPython.core.display.Markdown object>"
      ]
     },
     "metadata": {},
     "output_type": "display_data"
    }
   ],
   "source": [
    "tex = \"\"\"\\n\\n\\\\begin{bmatrix}\\n0 & 1  \\\\\\\\\\n 1 & 0  \\\\\\\\\\n \\\\end{bmatrix}\\n\\n\\n\\\\begin{bmatrix}\\n\\\\tfrac{1}{\\\\sqrt{2}}  \\\\\\\\\\n -\\\\tfrac{1}{\\\\sqrt{2}}  \\\\\\\\\\n \\\\end{bmatrix}\\n\\n\\n\\\\begin{bmatrix}\\n-\\\\tfrac{1}{\\\\sqrt{2}}  \\\\\\\\\\n \\\\tfrac{1}{\\\\sqrt{2}}  \\\\\\\\\\n \\\\end{bmatrix}\\n\"\"\"\n",
    "\n",
    "from IPython.display import display, Markdown\n",
    "display(Markdown(tex))\n",
    "\n",
    "new_tex = tex.replace(\"\\\\\\\\\",\"\\\\\").replace(\"\\\\\\\\n\",\"\")\n",
    "display(Markdown(new_tex))"
   ]
  },
  {
   "cell_type": "code",
   "execution_count": null,
   "id": "cc29a38c",
   "metadata": {},
   "outputs": [],
   "source": []
  }
 ],
 "metadata": {
  "kernelspec": {
   "display_name": "qcourse511",
   "language": "python",
   "name": "qcourse511"
  },
  "language_info": {
   "codemirror_mode": {
    "name": "ipython",
    "version": 3
   },
   "file_extension": ".py",
   "mimetype": "text/x-python",
   "name": "python",
   "nbconvert_exporter": "python",
   "pygments_lexer": "ipython3",
   "version": "3.10.5"
  }
 },
 "nbformat": 4,
 "nbformat_minor": 5
}
