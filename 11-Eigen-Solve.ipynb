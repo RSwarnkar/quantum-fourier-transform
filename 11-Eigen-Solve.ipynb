{
 "cells": [
  {
   "cell_type": "markdown",
   "id": "7ab2fac0",
   "metadata": {},
   "source": [
    "## Solving using Numpy"
   ]
  },
  {
   "cell_type": "code",
   "execution_count": 54,
   "id": "6f71967d",
   "metadata": {},
   "outputs": [],
   "source": [
    "import numpy as np\n",
    "import cmath\n",
    "from IPython.display import display, Markdown, Latex\n",
    "from qiskit.quantum_info import random_unitary\n",
    "from qiskit.visualization import array_to_latex"
   ]
  },
  {
   "cell_type": "code",
   "execution_count": 55,
   "id": "6f775c6c",
   "metadata": {},
   "outputs": [],
   "source": [
    "p = random_unitary(dims=3).data\n",
    "\n",
    "p = np.array([[1,2,3],[0,-2,6],[0,0,-3]])\n",
    "p = np.array([[1,2,0],[2,-1,0],[0,0,1]])\n",
    "p = np.array([[-2,-4,2],[-2,1,2],[4,2,5]])\n",
    "p = np.array([[3,1,4],[0,2,6],[0,0,5]])\n",
    "\n",
    "p = np.around( np.random.rand(3,3) * 1j + np.random.rand(3,3), 2)\n",
    "\n",
    "p = np.array([[0,1],[1,0]])\n",
    "\n",
    "#p = np.array([[0,complex(0,-1)],[complex(0,1),0]])\n",
    "\n",
    "p = np.array([[5,2,0],[2,5,0],[-3,4,6]])\n",
    "\n",
    "p = np.array([[0,complex(0,-1)],[complex(0,1),0]])\n"
   ]
  },
  {
   "cell_type": "code",
   "execution_count": 56,
   "id": "b3a4c3fe",
   "metadata": {},
   "outputs": [
    {
     "data": {
      "text/markdown": [
       "Given matrix $A$ is: \n",
       "\n",
       "\\begin{bmatrix}\n",
       "0 & -i  \\\\\n",
       " i & 0  \\\\\n",
       " \\end{bmatrix}\n"
      ],
      "text/plain": [
       "<IPython.core.display.Markdown object>"
      ]
     },
     "metadata": {},
     "output_type": "display_data"
    },
    {
     "data": {
      "text/markdown": [
       "Eigen values of $A$ i.e. $\\lambda$ are as follows:\n",
       "\n",
       "\\begin{bmatrix}\n",
       "1 & -1  \\\\\n",
       " \\end{bmatrix}\n"
      ],
      "text/plain": [
       "<IPython.core.display.Markdown object>"
      ]
     },
     "metadata": {},
     "output_type": "display_data"
    },
    {
     "data": {
      "text/markdown": [
       "Eigen vectors of $A$ i.e. $ x_i^T$ are as follows: \n",
       "\n",
       "\\begin{bmatrix}\n",
       "-\\tfrac{1}{\\sqrt{2}}i & \\tfrac{1}{\\sqrt{2}}  \\\\\n",
       " \\end{bmatrix}\n",
       " \n",
       "\n",
       "\\begin{bmatrix}\n",
       "\\tfrac{1}{\\sqrt{2}} & -\\tfrac{1}{\\sqrt{2}}i  \\\\\n",
       " \\end{bmatrix}\n",
       " \\\n",
       " Note : Eigenvectors are never unique. "
      ],
      "text/plain": [
       "<IPython.core.display.Markdown object>"
      ]
     },
     "metadata": {},
     "output_type": "display_data"
    }
   ],
   "source": [
    "\n",
    "# finding eigenvalues and eigenvectors\n",
    "eigenvalues, eigenvectors = np.linalg.eig(p)\n",
    "  \n",
    "\n",
    "\n",
    "src = \"Given matrix $A$ is: \"  + array_to_latex(array=p,source=True)\n",
    "display(Markdown(src))\n",
    "\n",
    "\n",
    "# printing eigen values\n",
    "src = \"Eigen values of $A$ i.e. $\\lambda$ are as follows:\"  + array_to_latex(array=eigenvalues,source=True)\n",
    "display(Markdown(src))\n",
    "\n",
    " \n",
    "# printing eigen vectors\n",
    "\n",
    "src = \"Eigen vectors of $A$ i.e. $ x_i^T$ are as follows:\"\n",
    "temp = \"\"\n",
    "num_cols = np.shape(eigenvectors)[1]\n",
    "\n",
    "for i in range(num_cols): # for each column in eigenvectors\n",
    "    col_vector = eigenvectors[:, i] # https://stackoverflow.com/questions/4455076/\n",
    "    temp = array_to_latex(array=col_vector,source=True)\n",
    "    src = src + \" \" + temp\n",
    "\n",
    "src = src + \" \\\\\\n Note : Eigenvectors are never unique. \"    \n",
    "    \n",
    "display(Markdown(src))\n"
   ]
  },
  {
   "cell_type": "code",
   "execution_count": null,
   "id": "0f897446",
   "metadata": {},
   "outputs": [],
   "source": []
  }
 ],
 "metadata": {
  "kernelspec": {
   "display_name": "qcourse511",
   "language": "python",
   "name": "qcourse511"
  },
  "language_info": {
   "codemirror_mode": {
    "name": "ipython",
    "version": 3
   },
   "file_extension": ".py",
   "mimetype": "text/x-python",
   "name": "python",
   "nbconvert_exporter": "python",
   "pygments_lexer": "ipython3",
   "version": "3.10.5"
  }
 },
 "nbformat": 4,
 "nbformat_minor": 5
}
