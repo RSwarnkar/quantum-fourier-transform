{
 "cells": [
  {
   "cell_type": "code",
   "execution_count": 1,
   "id": "4b57929b",
   "metadata": {},
   "outputs": [],
   "source": [
    "import numpy as np\n",
    "import cmath\n",
    "from IPython.display import display, Markdown, Latex\n",
    "from qiskit.quantum_info import random_unitary"
   ]
  },
  {
   "cell_type": "code",
   "execution_count": null,
   "id": "861ed175",
   "metadata": {},
   "outputs": [],
   "source": []
  }
 ],
 "metadata": {
  "kernelspec": {
   "display_name": "qcourse511",
   "language": "python",
   "name": "qcourse511"
  },
  "language_info": {
   "codemirror_mode": {
    "name": "ipython",
    "version": 3
   },
   "file_extension": ".py",
   "mimetype": "text/x-python",
   "name": "python",
   "nbconvert_exporter": "python",
   "pygments_lexer": "ipython3",
   "version": "3.10.5"
  }
 },
 "nbformat": 4,
 "nbformat_minor": 5
}
