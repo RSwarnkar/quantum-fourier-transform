{
 "cells": [
  {
   "cell_type": "markdown",
   "id": "f8840116",
   "metadata": {},
   "source": [
    "# Counting Real, Imaginary And Complex Values in Numpy:\n"
   ]
  },
  {
   "cell_type": "code",
   "execution_count": 6,
   "id": "3a744fe9",
   "metadata": {},
   "outputs": [],
   "source": [
    "import numpy as np\n",
    "\n",
    "\n",
    "x = np.array(\n",
    "[[ 1.+0.j, 1.+0.j      ,  1.+0.j      ,  1.+0.j      ,  1.+0.j   ],\n",
    " [ 1.+0.j, 0.309+0.951j, -0.000+0.588j, -0.809-0.588j,  0.309-0.951j],\n",
    " [ 1.+0.j,-0.809+0.588j,  0.309-0.951j,  0.309+0.951j, -0.809-0.588j],\n",
    " [ 1.+0.j,-0.809-0.588j,  0.309+0.951j,  0.309-0.951j, -0.809+0.588j],\n",
    " [ 1.+0.j, 0.309-0.951j, -0.809-0.588j, -0.809+0.588j,  0.309+0.951j]])"
   ]
  },
  {
   "cell_type": "code",
   "execution_count": 7,
   "id": "9305cbe6",
   "metadata": {},
   "outputs": [
    {
     "data": {
      "text/plain": [
       "array([[ 1.   +0.j   ,  1.   +0.j   ,  1.   +0.j   ,  1.   +0.j   ,\n",
       "         1.   +0.j   ],\n",
       "       [ 1.   +0.j   ,  0.309+0.951j,  0.   +0.588j, -0.809-0.588j,\n",
       "         0.309-0.951j],\n",
       "       [ 1.   +0.j   , -0.809+0.588j,  0.309-0.951j,  0.309+0.951j,\n",
       "        -0.809-0.588j],\n",
       "       [ 1.   +0.j   , -0.809-0.588j,  0.309+0.951j,  0.309-0.951j,\n",
       "        -0.809+0.588j],\n",
       "       [ 1.   +0.j   ,  0.309-0.951j, -0.809-0.588j, -0.809+0.588j,\n",
       "         0.309+0.951j]])"
      ]
     },
     "execution_count": 7,
     "metadata": {},
     "output_type": "execute_result"
    }
   ],
   "source": [
    "x"
   ]
  },
  {
   "cell_type": "code",
   "execution_count": 8,
   "id": "ae3d7f6b",
   "metadata": {},
   "outputs": [
    {
     "data": {
      "text/plain": [
       "15"
      ]
     },
     "execution_count": 8,
     "metadata": {},
     "output_type": "execute_result"
    }
   ],
   "source": [
    "np.count_nonzero(\n",
    "    np.logical_and(\n",
    "        np.logical_not(\n",
    "            np.equal(x.imag, 0)\n",
    "        ),\n",
    "        np.logical_not(\n",
    "            np.equal(x.real, 0)\n",
    "        )\n",
    "    )\n",
    ")"
   ]
  },
  {
   "cell_type": "code",
   "execution_count": 9,
   "id": "5e12bc17",
   "metadata": {},
   "outputs": [
    {
     "data": {
      "text/plain": [
       "9"
      ]
     },
     "execution_count": 9,
     "metadata": {},
     "output_type": "execute_result"
    }
   ],
   "source": [
    "np.count_nonzero(np.isreal(x))\n"
   ]
  },
  {
   "cell_type": "code",
   "execution_count": 10,
   "id": "7c663da3",
   "metadata": {},
   "outputs": [
    {
     "data": {
      "text/plain": [
       "1"
      ]
     },
     "execution_count": 10,
     "metadata": {},
     "output_type": "execute_result"
    }
   ],
   "source": [
    "np.count_nonzero(\n",
    "    np.logical_and(\n",
    "        np.logical_not(\n",
    "            np.equal(x.imag, 0)\n",
    "        ),\n",
    "        np.equal(x.real, 0)\n",
    "    )\n",
    ")"
   ]
  },
  {
   "cell_type": "code",
   "execution_count": null,
   "id": "738e63d0",
   "metadata": {},
   "outputs": [],
   "source": []
  }
 ],
 "metadata": {
  "kernelspec": {
   "display_name": "qcourse511",
   "language": "python",
   "name": "qcourse511"
  },
  "language_info": {
   "codemirror_mode": {
    "name": "ipython",
    "version": 3
   },
   "file_extension": ".py",
   "mimetype": "text/x-python",
   "name": "python",
   "nbconvert_exporter": "python",
   "pygments_lexer": "ipython3",
   "version": "3.10.5"
  }
 },
 "nbformat": 4,
 "nbformat_minor": 5
}
