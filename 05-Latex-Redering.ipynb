{
 "cells": [
  {
   "cell_type": "code",
   "execution_count": 5,
   "id": "b447863b",
   "metadata": {},
   "outputs": [
    {
     "data": {
      "text/markdown": [
       "$QFT=\\frac{1}{\\sqrt128} \\begin{bmatrix}1 & 2 \\\\ 3 & 4 \\\\ \\end{bmatrix}$"
      ],
      "text/plain": [
       "<IPython.core.display.Markdown object>"
      ]
     },
     "metadata": {},
     "output_type": "display_data"
    }
   ],
   "source": [
    "from IPython.display import display, Markdown\n",
    "N = 128\n",
    "text = r'$QFT=\\frac{{1}}{{\\sqrt{N}}} \\begin{{bmatrix}}'.format(N=N)\n",
    "text = text + r'1 & 2 \\\\ 3 & 4 \\\\'\n",
    "text = text + r' \\end{bmatrix}$'\n",
    "display(Markdown(text))"
   ]
  },
  {
   "cell_type": "code",
   "execution_count": 6,
   "id": "2c663d17",
   "metadata": {},
   "outputs": [
    {
     "data": {
      "text/markdown": [
       "$QFT=\\frac{1}{\\sqrt{128}} \begin{bmatrix}1 & 2 \\\\ 3 & 4 \\\\ \\end{bmatrix}$"
      ],
      "text/plain": [
       "<IPython.core.display.Markdown object>"
      ]
     },
     "metadata": {},
     "output_type": "display_data"
    }
   ],
   "source": [
    "from IPython.display import display, Markdown\n",
    "N = 128\n",
    "text = r'$QFT=\\frac{1}{\\sqrt{'+str(N)+'}} \\begin{bmatrix}'\n",
    "\n",
    "text = text + r'1 & 2 \\\\ 3 & 4 \\\\'\n",
    "text = text + r' \\end{bmatrix}$'\n",
    "display(Markdown(text))"
   ]
  },
  {
   "cell_type": "code",
   "execution_count": 7,
   "id": "2af3bf96",
   "metadata": {},
   "outputs": [
    {
     "data": {
      "text/markdown": [
       "$QFT = \\frac{1}{\\sqrt{128}} \\begin{bmatrix}1 & 2 \\\\ 3 & 4 \\\\ \\end{bmatrix}$"
      ],
      "text/plain": [
       "<IPython.core.display.Markdown object>"
      ]
     },
     "metadata": {},
     "output_type": "display_data"
    }
   ],
   "source": [
    "from IPython.display import display, Markdown\n",
    "N = 128\n",
    "text = r\"$QFT = \\frac{{1}}{{\\sqrt{{{N}}}}} \\begin{{bmatrix}}\".format(N=N)\n",
    "\n",
    "text = text + r'1 & 2 \\\\ 3 & 4 \\\\'\n",
    "text = text + r' \\end{bmatrix}$'\n",
    "display(Markdown(text))"
   ]
  },
  {
   "cell_type": "code",
   "execution_count": 9,
   "id": "d91dcbdd",
   "metadata": {},
   "outputs": [
    {
     "data": {
      "text/markdown": [
       "$QFT = \\frac{1}{\\sqrt{128}} \\begin{bmatrix}1 & 2 \\\\ 3 & 4 \\\\ \\end{bmatrix}$"
      ],
      "text/plain": [
       "<IPython.core.display.Markdown object>"
      ]
     },
     "metadata": {},
     "output_type": "display_data"
    }
   ],
   "source": [
    "from IPython.display import display, Markdown\n",
    "N = 128\n",
    "text = r\"$QFT = \\frac{{1}}{{\\sqrt{{{0}}}}} \\begin{{bmatrix}}\".format(N)\n",
    "\n",
    "text = text + r'1 & 2 \\\\ 3 & 4 \\\\'\n",
    "text = text + r' \\end{bmatrix}$'\n",
    "display(Markdown(text))"
   ]
  },
  {
   "cell_type": "code",
   "execution_count": null,
   "id": "5e8b3ce0",
   "metadata": {},
   "outputs": [],
   "source": [
    "from qiskit.visualization import array_to_latex\n",
    "# Max rows and cols = 24\n",
    "array_to_latex(array=my_np_array, prefix='Output = ', max_size=24)\n",
    "# print latex source only: Source=True\n",
    "array_to_latex(my_np_array, prefix='Output = ', source=True, max_size=24)"
   ]
  },
  {
   "cell_type": "code",
   "execution_count": 37,
   "id": "eeebe850",
   "metadata": {},
   "outputs": [
    {
     "data": {
      "text/markdown": [
       "\n",
       "\n",
       "\\begin{bmatrix}\n",
       "0 & 1  \\\\\n",
       " 1 & 0  \\\\\n",
       " \\end{bmatrix}\n",
       "\n",
       "\n",
       "\\begin{bmatrix}\n",
       "\\tfrac{1}{\\sqrt{2}}  \\\\\n",
       " -\\tfrac{1}{\\sqrt{2}}  \\\\\n",
       " \\end{bmatrix}\n",
       "\n",
       "\n",
       "\\begin{bmatrix}\n",
       "-\\tfrac{1}{\\sqrt{2}}  \\\\\n",
       " \\tfrac{1}{\\sqrt{2}}  \\\\\n",
       " \\end{bmatrix}\n"
      ],
      "text/plain": [
       "<IPython.core.display.Markdown object>"
      ]
     },
     "metadata": {},
     "output_type": "display_data"
    }
   ],
   "source": [
    "from qiskit.visualization import array_to_latex\n",
    "from IPython.display import display, Markdown\n",
    "import numpy as np\n",
    "import math \n",
    "\n",
    "# Max rows and cols = 24\n",
    "#display(array_to_latex(array=qft_of_sv, prefix='QFT (\\\\Psi) = ', max_size=24)\n",
    "\n",
    "xop = np.array([[0,1],[1,0]])\n",
    "sv  = np.array([[math.sqrt(1/2)],[-math.sqrt(1/2)]])\n",
    "result = np.matmul(xop,sv)\n",
    "\n",
    "ltx_xop    = array_to_latex(xop, source=True)\n",
    "ltx_sv     = array_to_latex(sv, source=True)\n",
    "ltx_result = array_to_latex(result, source=True)\n",
    "\n",
    "final_tex = \"\\OP\" ltx_xop + ltx_sv + ltx_result\n",
    "\n",
    "display(Markdown(final_tex))\n",
    "\n",
    "\n"
   ]
  },
  {
   "cell_type": "code",
   "execution_count": 8,
   "id": "030fccaa",
   "metadata": {},
   "outputs": [
    {
     "data": {
      "text/markdown": [
       "\n",
       "\n",
       "\\begin{bmatrix}\n",
       "0 & 0 & 0 & 0 & 0 & 0 & 0 & 0 & 0 & 0  \\\\\n",
       " 0 & 0 & 0 & 0 & 0 & 0 & 0 & 0 & 0 & 0  \\\\\n",
       " 0 & 0 & 0 & 0 & 0 & 0 & 0 & 0 & 0 & 0  \\\\\n",
       " 0 & 0 & 0 & 0 & 0 & 0 & 0 & 0 & 0 & 0  \\\\\n",
       " 0 & 0 & 0 & 0 & 0 & 0 & 0 & 0 & 0 & 0  \\\\\n",
       " 0 & 0 & 0 & 0 & 0 & 0 & 0 & 0 & 0 & 0  \\\\\n",
       " 0 & 0 & 0 & 0 & 0 & 0 & 0 & 0 & 0 & 0  \\\\\n",
       " 0 & 0 & 0 & 0 & 0 & 0 & 0 & 0 & 0 & 0  \\\\\n",
       " 0 & 0 & 0 & 0 & 0 & 0 & 0 & 0 & 0 & 0  \\\\\n",
       " 0 & 0 & 0 & 0 & 0 & 0 & 0 & 0 & 0 & 0  \\\\\n",
       " \\end{bmatrix}\n"
      ],
      "text/plain": [
       "<IPython.core.display.Markdown object>"
      ]
     },
     "metadata": {},
     "output_type": "display_data"
    }
   ],
   "source": [
    "from qiskit.visualization import array_to_latex\n",
    "import numpy as np\n",
    "\n",
    "x = np.zeros(100).reshape(10,10)\n",
    "\n",
    "\n",
    "# Max rows and cols = 24\n",
    "array_to_latex(array=x, prefix='Output = ', max_size=(10,10)) # If max_size not set then matrix will have ellipses\n",
    "# print latex source only: Source=True\n",
    "latex_source = array_to_latex(array=x, source=True, max_size=(10,10))\n",
    "\n",
    "# If you are using Jupyter Notebook: \n",
    "from IPython.display import display, Markdown\n",
    "display(Markdown(latex_source))"
   ]
  },
  {
   "cell_type": "code",
   "execution_count": 12,
   "id": "df4c3038",
   "metadata": {},
   "outputs": [
    {
     "name": "stdout",
     "output_type": "stream",
     "text": [
      "(1+0j)\n",
      "(1-4.898587196589413e-16j)\n",
      "(1-9.797174393178826e-16j)\n",
      "(1-1.4695761589768238e-15j)\n",
      "(1-1.959434878635765e-15j)\n",
      "(1-2.4492935982947065e-15j)\n"
     ]
    }
   ],
   "source": [
    "import cmath\n",
    "for i in range(0,12,2):\n",
    "    print(cmath.exp(2*1j*cmath.pi*i))"
   ]
  },
  {
   "cell_type": "code",
   "execution_count": null,
   "id": "191d0f9a",
   "metadata": {},
   "outputs": [],
   "source": []
  }
 ],
 "metadata": {
  "kernelspec": {
   "display_name": "qcourse511",
   "language": "python",
   "name": "qcourse511"
  },
  "language_info": {
   "codemirror_mode": {
    "name": "ipython",
    "version": 3
   },
   "file_extension": ".py",
   "mimetype": "text/x-python",
   "name": "python",
   "nbconvert_exporter": "python",
   "pygments_lexer": "ipython3",
   "version": "3.10.5"
  }
 },
 "nbformat": 4,
 "nbformat_minor": 5
}
