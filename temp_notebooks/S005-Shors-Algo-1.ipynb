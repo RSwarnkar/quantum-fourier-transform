{
 "cells": [
  {
   "cell_type": "markdown",
   "id": "c731a547",
   "metadata": {},
   "source": [
    "# Task 1"
   ]
  },
  {
   "cell_type": "code",
   "execution_count": 38,
   "id": "f1aa7040",
   "metadata": {},
   "outputs": [
    {
     "name": "stdout",
     "output_type": "stream",
     "text": [
      "[1, 2, 3, 4, 5, 6, 8, 9, 10, 12, 13, 15, 16, 17, 18, 19, 20, 23, 24, 25, 26, 27, 29, 30, 31, 32, 34, 36, 37, 38, 39, 40, 41, 43, 45, 46, 47, 48, 50, 51, 52, 53, 54, 57, 58, 59, 60, 61, 62, 64, 65, 67, 68, 69, 71, 72, 73, 74, 75, 76]\n",
      "77.92207792207792 percentage of the integers are relatively prime with 77\n"
     ]
    }
   ],
   "source": [
    "import numpy as np  \n",
    "\n",
    "# Change accordingly \n",
    "N=77\n",
    "\n",
    "#Create an empty list\n",
    "rlist=[]\n",
    "\n",
    "\n",
    "#If relatively prime with N, append to the list\n",
    "for i in range(1,N):\n",
    "    if np.gcd(N,i)==1:\n",
    "        rlist.append(i)\n",
    "        \n",
    "print(rlist)\n",
    "        \n",
    "print(len(rlist)*100/N, \"percentage of the integers are relatively prime with\", N)"
   ]
  },
  {
   "cell_type": "markdown",
   "id": "cde5cc05",
   "metadata": {},
   "source": [
    "# Task 2"
   ]
  },
  {
   "cell_type": "code",
   "execution_count": 37,
   "id": "3038b927",
   "metadata": {},
   "outputs": [
    {
     "name": "stdout",
     "output_type": "stream",
     "text": [
      "Order of (x,N,r)=( 7 , 201 , 66 )\n",
      "Order of (x,N,r)=( 13 , 201 , 66 )\n",
      "Order of (x,N,r)=( 14 , 201 , 22 )\n",
      "Order of (x,N,r)=( 17 , 201 , 66 )\n",
      "Order of (x,N,r)=( 23 , 201 , 66 )\n",
      "Order of (x,N,r)=( 26 , 201 , 66 )\n",
      "Order of (x,N,r)=( 28 , 201 , 66 )\n",
      "Order of (x,N,r)=( 29 , 201 , 6 )\n",
      "Order of (x,N,r)=( 31 , 201 , 66 )\n",
      "Order of (x,N,r)=( 34 , 201 , 66 )\n",
      "Order of (x,N,r)=( 35 , 201 , 66 )\n",
      "Order of (x,N,r)=( 43 , 201 , 22 )\n",
      "Order of (x,N,r)=( 46 , 201 , 66 )\n",
      "Order of (x,N,r)=( 47 , 201 , 66 )\n",
      "Order of (x,N,r)=( 52 , 201 , 22 )\n",
      "Order of (x,N,r)=( 56 , 201 , 66 )\n",
      "Order of (x,N,r)=( 58 , 201 , 22 )\n",
      "Order of (x,N,r)=( 59 , 201 , 22 )\n",
      "Order of (x,N,r)=( 61 , 201 , 66 )\n",
      "Order of (x,N,r)=( 62 , 201 , 22 )\n",
      "Order of (x,N,r)=( 65 , 201 , 66 )\n",
      "Order of (x,N,r)=( 68 , 201 , 2 )\n",
      "Order of (x,N,r)=( 70 , 201 , 22 )\n",
      "Order of (x,N,r)=( 71 , 201 , 66 )\n",
      "Order of (x,N,r)=( 77 , 201 , 66 )\n",
      "Order of (x,N,r)=( 79 , 201 , 66 )\n",
      "Order of (x,N,r)=( 83 , 201 , 66 )\n",
      "Order of (x,N,r)=( 85 , 201 , 66 )\n",
      "Order of (x,N,r)=( 86 , 201 , 66 )\n",
      "Order of (x,N,r)=( 89 , 201 , 22 )\n",
      "Order of (x,N,r)=( 92 , 201 , 22 )\n",
      "Order of (x,N,r)=( 94 , 201 , 22 )\n",
      "Order of (x,N,r)=( 97 , 201 , 6 )\n",
      "Order of (x,N,r)=( 104 , 201 , 6 )\n",
      "Order of (x,N,r)=( 107 , 201 , 22 )\n",
      "Order of (x,N,r)=( 109 , 201 , 22 )\n",
      "Order of (x,N,r)=( 112 , 201 , 22 )\n",
      "Order of (x,N,r)=( 115 , 201 , 66 )\n",
      "Order of (x,N,r)=( 116 , 201 , 66 )\n",
      "Order of (x,N,r)=( 118 , 201 , 66 )\n",
      "Order of (x,N,r)=( 122 , 201 , 66 )\n",
      "Order of (x,N,r)=( 124 , 201 , 66 )\n",
      "Order of (x,N,r)=( 130 , 201 , 66 )\n",
      "Order of (x,N,r)=( 131 , 201 , 22 )\n",
      "Order of (x,N,r)=( 133 , 201 , 2 )\n",
      "Order of (x,N,r)=( 136 , 201 , 66 )\n",
      "Order of (x,N,r)=( 139 , 201 , 22 )\n",
      "Order of (x,N,r)=( 140 , 201 , 66 )\n",
      "Order of (x,N,r)=( 142 , 201 , 22 )\n",
      "Order of (x,N,r)=( 143 , 201 , 22 )\n",
      "Order of (x,N,r)=( 145 , 201 , 66 )\n",
      "Order of (x,N,r)=( 149 , 201 , 22 )\n",
      "Order of (x,N,r)=( 154 , 201 , 66 )\n",
      "Order of (x,N,r)=( 155 , 201 , 66 )\n",
      "Order of (x,N,r)=( 158 , 201 , 22 )\n",
      "Order of (x,N,r)=( 166 , 201 , 66 )\n",
      "Order of (x,N,r)=( 167 , 201 , 66 )\n",
      "Order of (x,N,r)=( 170 , 201 , 66 )\n",
      "Order of (x,N,r)=( 172 , 201 , 6 )\n",
      "Order of (x,N,r)=( 173 , 201 , 66 )\n",
      "Order of (x,N,r)=( 175 , 201 , 66 )\n",
      "Order of (x,N,r)=( 178 , 201 , 66 )\n",
      "Order of (x,N,r)=( 184 , 201 , 66 )\n",
      "Order of (x,N,r)=( 187 , 201 , 22 )\n",
      "Order of (x,N,r)=( 188 , 201 , 66 )\n",
      "Order of (x,N,r)=( 194 , 201 , 66 )\n",
      "32.83582089552239 percentage of the integers satisfy the conditions\n"
     ]
    }
   ],
   "source": [
    "import numpy as np\n",
    "counter=0\n",
    "#This will hold the list of integers that satisfy the conditions together with the order\n",
    "satisfy={}\n",
    "\n",
    "#rlist contains the relatively prime numbers with N        \n",
    "for i in range(len(rlist)):\n",
    "    r=1;\n",
    "    while(1):\n",
    "        if (rlist[i]**r)%N==1:\n",
    "            if(r%2==0 and ((rlist[i]**int(r/2))%N != N-1)):\n",
    "                counter=counter+1\n",
    "                print(\"Order of (x,N,r)=(\",rlist[i],\",\",N,\",\",r,\")\")\n",
    "                satisfy[rlist[i]]=r\n",
    "            break\n",
    "        r=r+1\n",
    "    \n",
    "print(counter*100/N, \"percentage of the integers satisfy the conditions\")        "
   ]
  },
  {
   "cell_type": "markdown",
   "id": "1ee36f31",
   "metadata": {},
   "source": [
    "# Task 3\n",
    "Pick randomly one of the $x$ you found in Task 2 and calculate gcd$(x^{r/2}-1,N)$ and gcd$(x^{r/2}+1,N)$."
   ]
  },
  {
   "cell_type": "code",
   "execution_count": 23,
   "id": "90286521",
   "metadata": {},
   "outputs": [
    {
     "name": "stdout",
     "output_type": "stream",
     "text": [
      "Randomly chosen x= 100  for pair (x,N)=( 100 , 99 ). And its order r =  10\n",
      "Factors of 99 : 99 and 1\n"
     ]
    }
   ],
   "source": [
    "import random\n",
    "\n",
    "#Pick a random integer\n",
    "rand_index=random.randint(0,len(satisfy))\n",
    "\n",
    "#Pick a random x and its order from the dictionary we have created above\n",
    "x,r=random.choice(list(satisfy.items()))\n",
    "\n",
    "## Override manually \n",
    "x = 100\n",
    "r = 10\n",
    "\n",
    "\n",
    "print(\"Randomly chosen x=\",x,\" for pair (x,N)=(\",x,\",\",N,\"). And its order r = \", r)\n",
    "\n",
    "#Calculate gcd\n",
    "print(\"Factors of\",N,\":\",np.gcd((x**int(r/2)-1),N), \"and\",np.gcd((x**int(r/2)+1),N))"
   ]
  },
  {
   "cell_type": "markdown",
   "id": "9ef8f43e",
   "metadata": {},
   "source": [
    "# Task 4\n",
    "\n",
    "Factor N=21 by using Shor's Algorithm.\n",
    "\n",
    "- Pick a random $x$ which is relatively prime with 21.\n",
    "- Apply phase estimation circuit to the operator $U_x$.\n",
    "- Use continued fractions algorithm to find out $r$.\n",
    "- Compute $gcd(x^{r/2} -1, N)$ and $gcd(x^{r/2}+1, N)$"
   ]
  },
  {
   "cell_type": "code",
   "execution_count": 33,
   "id": "eaf341fc",
   "metadata": {},
   "outputs": [
    {
     "name": "stdout",
     "output_type": "stream",
     "text": [
      "17\n",
      "15\n"
     ]
    }
   ],
   "source": [
    "import numpy as np\n",
    "\n",
    "x = 22\n",
    "N = 255\n",
    "r = 16\n",
    "print(np.gcd((x**int(r/2)+1),N))\n",
    "print(np.gcd((x**int(r/2)-1),N))"
   ]
  },
  {
   "cell_type": "code",
   "execution_count": null,
   "id": "8ccfdc72",
   "metadata": {},
   "outputs": [],
   "source": []
  }
 ],
 "metadata": {
  "kernelspec": {
   "display_name": "qcourse511",
   "language": "python",
   "name": "qcourse511"
  },
  "language_info": {
   "codemirror_mode": {
    "name": "ipython",
    "version": 3
   },
   "file_extension": ".py",
   "mimetype": "text/x-python",
   "name": "python",
   "nbconvert_exporter": "python",
   "pygments_lexer": "ipython3",
   "version": "3.10.5"
  }
 },
 "nbformat": 4,
 "nbformat_minor": 5
}
