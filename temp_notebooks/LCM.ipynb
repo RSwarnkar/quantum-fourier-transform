{
 "cells": [
  {
   "cell_type": "code",
   "execution_count": 1,
   "id": "3e60379e",
   "metadata": {},
   "outputs": [],
   "source": [
    "import numpy as np"
   ]
  },
  {
   "cell_type": "code",
   "execution_count": 4,
   "id": "dc531cbd",
   "metadata": {},
   "outputs": [
    {
     "data": {
      "text/plain": [
       "10"
      ]
     },
     "execution_count": 4,
     "metadata": {},
     "output_type": "execute_result"
    }
   ],
   "source": [
    "np.lcm.reduce([1,2,5,10])"
   ]
  },
  {
   "cell_type": "code",
   "execution_count": 5,
   "id": "e4a22831",
   "metadata": {},
   "outputs": [
    {
     "data": {
      "text/plain": [
       "60"
      ]
     },
     "execution_count": 5,
     "metadata": {},
     "output_type": "execute_result"
    }
   ],
   "source": [
    "np.lcm.reduce([1,2,3,4,5])"
   ]
  },
  {
   "cell_type": "code",
   "execution_count": 40,
   "id": "08a45103",
   "metadata": {},
   "outputs": [
    {
     "name": "stdout",
     "output_type": "stream",
     "text": [
      "17\n",
      "35\n"
     ]
    }
   ],
   "source": [
    "import numpy as np\n",
    "\n",
    "x = 36\n",
    "N = 595\n",
    "r = 8\n",
    "print(np.gcd((x**int(r/2)+1),N))\n",
    "print(np.gcd((x**int(r/2)-1),N))"
   ]
  },
  {
   "cell_type": "code",
   "execution_count": 41,
   "id": "71e4a077",
   "metadata": {},
   "outputs": [
    {
     "name": "stdout",
     "output_type": "stream",
     "text": [
      "Factors:  17 and  35\n",
      "Factors:  17 and  35\n",
      "Factors:  17 and  35\n",
      "Factors:  1 and  85\n",
      "Factors:  17 and  35\n"
     ]
    }
   ],
   "source": [
    "N = 595\n",
    "\n",
    "x = [81,82,83,86,87]\n",
    "r = [12,48,8, 3, 24]\n",
    "\n",
    "for i in range(len(x)):\n",
    "    print(\"Factors: \",np.gcd((x[i]**int(r[i]/2)+1),N), \"and \", np.gcd((x[i]**int(r[i]/2)-1),N)  )\n"
   ]
  },
  {
   "cell_type": "code",
   "execution_count": 21,
   "id": "4a5981db",
   "metadata": {},
   "outputs": [
    {
     "name": "stdout",
     "output_type": "stream",
     "text": [
      "Are  100  and  595  co-prime? :  False\n",
      "Are  101  and  595  co-prime? :  True\n",
      "Are  102  and  595  co-prime? :  False\n",
      "Are  103  and  595  co-prime? :  True\n",
      "Are  104  and  595  co-prime? :  True\n",
      "Are  105  and  595  co-prime? :  False\n",
      "Are  106  and  595  co-prime? :  True\n",
      "Are  107  and  595  co-prime? :  True\n",
      "Are  108  and  595  co-prime? :  True\n",
      "Are  109  and  595  co-prime? :  True\n",
      "Are  110  and  595  co-prime? :  False\n",
      "Are  111  and  595  co-prime? :  True\n",
      "Are  112  and  595  co-prime? :  False\n",
      "Are  113  and  595  co-prime? :  True\n",
      "Are  114  and  595  co-prime? :  True\n",
      "Are  115  and  595  co-prime? :  False\n",
      "Are  116  and  595  co-prime? :  True\n",
      "Are  117  and  595  co-prime? :  True\n",
      "Are  118  and  595  co-prime? :  True\n",
      "Are  119  and  595  co-prime? :  False\n",
      "Are  120  and  595  co-prime? :  False\n",
      "Are  121  and  595  co-prime? :  True\n",
      "Are  122  and  595  co-prime? :  True\n",
      "Are  123  and  595  co-prime? :  True\n",
      "Are  124  and  595  co-prime? :  True\n",
      "Are  125  and  595  co-prime? :  False\n",
      "Are  126  and  595  co-prime? :  False\n",
      "Are  127  and  595  co-prime? :  True\n",
      "Are  128  and  595  co-prime? :  True\n",
      "Are  129  and  595  co-prime? :  True\n",
      "Are  130  and  595  co-prime? :  False\n",
      "Are  131  and  595  co-prime? :  True\n",
      "Are  132  and  595  co-prime? :  True\n",
      "Are  133  and  595  co-prime? :  False\n",
      "Are  134  and  595  co-prime? :  True\n",
      "Are  135  and  595  co-prime? :  False\n",
      "Are  136  and  595  co-prime? :  False\n",
      "Are  137  and  595  co-prime? :  True\n",
      "Are  138  and  595  co-prime? :  True\n",
      "Are  139  and  595  co-prime? :  True\n",
      "Are  140  and  595  co-prime? :  False\n",
      "Are  141  and  595  co-prime? :  True\n",
      "Are  142  and  595  co-prime? :  True\n",
      "Are  143  and  595  co-prime? :  True\n",
      "Are  144  and  595  co-prime? :  True\n",
      "Are  145  and  595  co-prime? :  False\n",
      "Are  146  and  595  co-prime? :  True\n",
      "Are  147  and  595  co-prime? :  False\n",
      "Are  148  and  595  co-prime? :  True\n",
      "Are  149  and  595  co-prime? :  True\n",
      "Are  150  and  595  co-prime? :  False\n",
      "Are  151  and  595  co-prime? :  True\n",
      "Are  152  and  595  co-prime? :  True\n",
      "Are  153  and  595  co-prime? :  False\n",
      "Are  154  and  595  co-prime? :  False\n",
      "Are  155  and  595  co-prime? :  False\n",
      "Are  156  and  595  co-prime? :  True\n",
      "Are  157  and  595  co-prime? :  True\n",
      "Are  158  and  595  co-prime? :  True\n",
      "Are  159  and  595  co-prime? :  True\n",
      "Are  160  and  595  co-prime? :  False\n",
      "Are  161  and  595  co-prime? :  False\n",
      "Are  162  and  595  co-prime? :  True\n",
      "Are  163  and  595  co-prime? :  True\n",
      "Are  164  and  595  co-prime? :  True\n",
      "Are  165  and  595  co-prime? :  False\n",
      "Are  166  and  595  co-prime? :  True\n",
      "Are  167  and  595  co-prime? :  True\n",
      "Are  168  and  595  co-prime? :  False\n",
      "Are  169  and  595  co-prime? :  True\n",
      "Are  170  and  595  co-prime? :  False\n",
      "Are  171  and  595  co-prime? :  True\n",
      "Are  172  and  595  co-prime? :  True\n",
      "Are  173  and  595  co-prime? :  True\n",
      "Are  174  and  595  co-prime? :  True\n",
      "Are  175  and  595  co-prime? :  False\n",
      "Are  176  and  595  co-prime? :  True\n",
      "Are  177  and  595  co-prime? :  True\n",
      "Are  178  and  595  co-prime? :  True\n",
      "Are  179  and  595  co-prime? :  True\n",
      "Are  180  and  595  co-prime? :  False\n",
      "Are  181  and  595  co-prime? :  True\n",
      "Are  182  and  595  co-prime? :  False\n",
      "Are  183  and  595  co-prime? :  True\n",
      "Are  184  and  595  co-prime? :  True\n",
      "Are  185  and  595  co-prime? :  False\n",
      "Are  186  and  595  co-prime? :  True\n",
      "Are  187  and  595  co-prime? :  False\n",
      "Are  188  and  595  co-prime? :  True\n",
      "Are  189  and  595  co-prime? :  False\n",
      "Are  190  and  595  co-prime? :  False\n",
      "Are  191  and  595  co-prime? :  True\n",
      "Are  192  and  595  co-prime? :  True\n",
      "Are  193  and  595  co-prime? :  True\n",
      "Are  194  and  595  co-prime? :  True\n",
      "Are  195  and  595  co-prime? :  False\n",
      "Are  196  and  595  co-prime? :  False\n",
      "Are  197  and  595  co-prime? :  True\n",
      "Are  198  and  595  co-prime? :  True\n",
      "Are  199  and  595  co-prime? :  True\n",
      "35\n"
     ]
    }
   ],
   "source": [
    "\n",
    "def iscoprime(p=1,q=1):\n",
    "    common_factor = np.gcd(p,q)\n",
    "    if np.gcd(p,q)==1:\n",
    "        return True\n",
    "    else:\n",
    "        return False\n",
    "     \n",
    "\n",
    "x = range(100,200)\n",
    "N = 595\n",
    "\n",
    "not_cp = 0\n",
    "\n",
    "for i in x:\n",
    "    p = iscoprime(i,N)\n",
    "    print(\"Are \",i,\" and \",N,\" co-prime? : \",p)\n",
    "    \n",
    "    if p==False:\n",
    "        not_cp = not_cp + 1\n",
    "    \n",
    "print(not_cp) "
   ]
  },
  {
   "cell_type": "code",
   "execution_count": 39,
   "id": "ec9c5d81",
   "metadata": {},
   "outputs": [
    {
     "name": "stdout",
     "output_type": "stream",
     "text": [
      "27\n"
     ]
    }
   ],
   "source": [
    "N = 729\n",
    "\n",
    "x = range(2,730)\n",
    "\n",
    "multiples_of = 27\n",
    "\n",
    "count = 0 \n",
    "\n",
    "for i in x:\n",
    "    if (i % multiples_of == 0):\n",
    "        count = count+1\n",
    "print(count)"
   ]
  },
  {
   "cell_type": "code",
   "execution_count": 37,
   "id": "da62627e",
   "metadata": {},
   "outputs": [
    {
     "data": {
      "text/plain": [
       "727"
      ]
     },
     "execution_count": 37,
     "metadata": {},
     "output_type": "execute_result"
    }
   ],
   "source": [
    "len(x)"
   ]
  },
  {
   "cell_type": "code",
   "execution_count": 29,
   "id": "8b996d41",
   "metadata": {},
   "outputs": [
    {
     "name": "stdout",
     "output_type": "stream",
     "text": [
      "13\n",
      "28\n",
      "43\n",
      "58\n",
      "73\n",
      "88\n",
      "103\n",
      "118\n",
      "133\n",
      "148\n",
      "163\n",
      "178\n",
      "193\n",
      "208\n",
      "Numbers count:  14\n"
     ]
    }
   ],
   "source": [
    "N = 225\n",
    "\n",
    "x = range(2,225)\n",
    "\n",
    "multiples_of = 15\n",
    "\n",
    "count = 0 \n",
    "\n",
    "for i in range(len(x)):\n",
    "    if (x[i] % multiples_of == 0):\n",
    "        count = count+1\n",
    "        print(i)\n",
    "print(\"Numbers count: \",count)"
   ]
  },
  {
   "cell_type": "code",
   "execution_count": null,
   "id": "e283faff",
   "metadata": {},
   "outputs": [],
   "source": []
  }
 ],
 "metadata": {
  "kernelspec": {
   "display_name": "qcourse511",
   "language": "python",
   "name": "qcourse511"
  },
  "language_info": {
   "codemirror_mode": {
    "name": "ipython",
    "version": 3
   },
   "file_extension": ".py",
   "mimetype": "text/x-python",
   "name": "python",
   "nbconvert_exporter": "python",
   "pygments_lexer": "ipython3",
   "version": "3.10.5"
  }
 },
 "nbformat": 4,
 "nbformat_minor": 5
}
