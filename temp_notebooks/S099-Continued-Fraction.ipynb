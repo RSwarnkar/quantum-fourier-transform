{
 "cells": [
  {
   "cell_type": "code",
   "execution_count": 1,
   "id": "ce95672b",
   "metadata": {},
   "outputs": [
    {
     "name": "stdout",
     "output_type": "stream",
     "text": [
      "---------------------\n",
      "Inside Else Branch: \n",
      "After pop List is:  [1, 2, 3, 4, 5]\n",
      "Else Branch: d is:  6\n",
      "Else Branch: posttext is:  }\n",
      "Else Branch: pretext is:  6 + \\frac{1}{\n",
      "Else Branch: text is:  6 + \\frac{1}{\n",
      "---------------------\n",
      "---------------------\n",
      "Inside Else Branch: \n",
      "After pop List is:  [1, 2, 3, 4]\n",
      "Else Branch: d is:  5\n",
      "Else Branch: posttext is:  }}\n",
      "Else Branch: pretext is:  5 + \\frac{1}{6 + \\frac{1}{\n",
      "Else Branch: text is:  5 + \\frac{1}{6 + \\frac{1}{\n",
      "---------------------\n",
      "---------------------\n",
      "Inside Else Branch: \n",
      "After pop List is:  [1, 2, 3]\n",
      "Else Branch: d is:  4\n",
      "Else Branch: posttext is:  }}}\n",
      "Else Branch: pretext is:  4 + \\frac{1}{5 + \\frac{1}{6 + \\frac{1}{\n",
      "Else Branch: text is:  4 + \\frac{1}{5 + \\frac{1}{6 + \\frac{1}{\n",
      "---------------------\n",
      "---------------------\n",
      "Inside Else Branch: \n",
      "After pop List is:  [1, 2]\n",
      "Else Branch: d is:  3\n",
      "Else Branch: posttext is:  }}}}\n",
      "Else Branch: pretext is:  3 + \\frac{1}{4 + \\frac{1}{5 + \\frac{1}{6 + \\frac{1}{\n",
      "Else Branch: text is:  3 + \\frac{1}{4 + \\frac{1}{5 + \\frac{1}{6 + \\frac{1}{\n",
      "---------------------\n",
      "Finally the list is:  [1, 2]\n",
      "$3 + \\frac{1}{4 + \\frac{1}{5 + \\frac{1}{6 + \\frac{1}{2 + \\frac{1}{1}}}}}$\n"
     ]
    },
    {
     "data": {
      "text/markdown": [
       "$3 + \\frac{1}{4 + \\frac{1}{5 + \\frac{1}{6 + \\frac{1}{2 + \\frac{1}{1}}}}}$"
      ],
      "text/plain": [
       "<IPython.core.display.Markdown object>"
      ]
     },
     "metadata": {},
     "output_type": "display_data"
    }
   ],
   "source": [
    "from IPython.display import display, Markdown\n",
    "\n",
    "def contfrac_markdown3(mylist, pretext, posttext):\n",
    "    \n",
    "    if len(mylist) == 2:\n",
    "        print(\"Finally the list is: \", mylist)\n",
    "        d1 = mylist.pop()\n",
    "        d2 = mylist.pop()\n",
    "        text = pretext + str(d1) + \" + \\\\frac{1}{\"+str(d2)+\"}\" + posttext\n",
    "        return text\n",
    "    else:\n",
    "        #print(\"Before pop List is: \", mylist)\n",
    "        print(\"---------------------\")\n",
    "        d = mylist.pop()\n",
    "        \n",
    "        posttext = posttext + \"}\"\n",
    "        pretext = str(d) + \" + \\\\frac{1}{\" + pretext\n",
    "        \n",
    "        print(\"Inside Else Branch: \")\n",
    "        print(\"After pop List is: \", mylist)\n",
    "        print(\"Else Branch: d is: \",d)\n",
    "        print(\"Else Branch: posttext is: \",posttext)\n",
    "        print(\"Else Branch: pretext is: \",pretext)\n",
    "        print(\"Else Branch: text is: \",pretext)\n",
    "        \n",
    "        print(\"---------------------\")\n",
    "        \n",
    "        return contfrac_markdown3(mylist, pretext, posttext)\n",
    "\n",
    "    \n",
    "\n",
    "    \n",
    "x = [1,2,3,4,5,6]\n",
    "ttt = contfrac_markdown3(x,\"\",\"\")\n",
    "ttt = \"$\"+ttt+\"$\"\n",
    "print(ttt)\n",
    "\n",
    "\n",
    "\n",
    "display(Markdown(ttt))\n"
   ]
  },
  {
   "cell_type": "code",
   "execution_count": 54,
   "id": "c598dffe",
   "metadata": {},
   "outputs": [
    {
     "data": {
      "text/markdown": [
       "$4 + \\frac{1}{5 + \\frac{1}{6 + \\frac{1}{1 + \\frac{1}{2 + \\frac{1}{5}}}}}$"
      ],
      "text/plain": [
       "<IPython.core.display.Markdown object>"
      ]
     },
     "metadata": {},
     "output_type": "display_data"
    }
   ],
   "source": [
    "def contfrac_markdown(x=[0]):\n",
    "    def surround_fraction(d, text):\n",
    "        return str(d) + \" + \\\\frac{1}{\"+text+\"}\"\n",
    "\n",
    "    def final_fraction(p,q):\n",
    "        return  str(p) + \" + \\\\frac{1}{\"+str(q)+\"}\"\n",
    "\n",
    "    x_len = len(x)\n",
    "    i = x_len-1\n",
    "    t1 = \"\"\n",
    "    \n",
    "    while i!=0:\n",
    "        if(i==x_len-1):\n",
    "            t1 = final_fraction(x[i-1],x[i])\n",
    "        else:\n",
    "            t1 = surround_fraction(x[i-1], t1)\n",
    "        i = i -1\n",
    "        \n",
    "    return \"$\"+t1+\"$\"    \n",
    "\n",
    "display(Markdown(contfrac_markdown([4,5,6,1,2,5])))"
   ]
  }
 ],
 "metadata": {
  "kernelspec": {
   "display_name": "qcourse511",
   "language": "python",
   "name": "qcourse511"
  },
  "language_info": {
   "codemirror_mode": {
    "name": "ipython",
    "version": 3
   },
   "file_extension": ".py",
   "mimetype": "text/x-python",
   "name": "python",
   "nbconvert_exporter": "python",
   "pygments_lexer": "ipython3",
   "version": "3.10.5"
  }
 },
 "nbformat": 4,
 "nbformat_minor": 5
}
